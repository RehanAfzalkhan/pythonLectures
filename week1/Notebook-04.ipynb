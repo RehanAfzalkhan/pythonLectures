{
 "cells": [
  {
   "cell_type": "markdown",
   "metadata": {},
   "source": [
    "Python input & output"
   ]
  },
  {
   "cell_type": "code",
   "execution_count": 1,
   "metadata": {},
   "outputs": [
    {
     "name": "stdout",
     "output_type": "stream",
     "text": [
      "Python\n",
      "Programming\n"
     ]
    }
   ],
   "source": [
    "# command to show details of print\n",
    "# help(print)#check help\n",
    "# print?\n",
    "# print??\n",
    "print(\"Python\")\n",
    "print(\"Programming\")"
   ]
  },
  {
   "cell_type": "markdown",
   "metadata": {},
   "source": [
    "python function or method\n",
    "1. input        arguments\n",
    "2.output        return type"
   ]
  },
  {
   "cell_type": "code",
   "execution_count": 2,
   "metadata": {},
   "outputs": [
    {
     "name": "stdout",
     "output_type": "stream",
     "text": [
      "python\n",
      "\n",
      "programming\n"
     ]
    }
   ],
   "source": [
    "print(\"python\")\n",
    "print()\n",
    "print(\"programming\")"
   ]
  },
  {
   "cell_type": "code",
   "execution_count": null,
   "metadata": {},
   "outputs": [],
   "source": [
    "# print(value1,value2,value3,,,,,) as an input can any object"
   ]
  },
  {
   "cell_type": "markdown",
   "metadata": {},
   "source": [
    "#positional args\n",
    "compulsory arguments else generate error like len()\n",
    "#default args\n",
    "#keyword args"
   ]
  },
  {
   "cell_type": "code",
   "execution_count": 5,
   "metadata": {},
   "outputs": [],
   "source": [
    "# input but no output\n",
    "# function output=return type\n",
    "x, y = [3, 6]  # unpacking\n",
    "x, *y = [3, 4, 5]"
   ]
  },
  {
   "cell_type": "code",
   "execution_count": 7,
   "metadata": {},
   "outputs": [
    {
     "data": {
      "text/plain": [
       "[4, 5]"
      ]
     },
     "execution_count": 7,
     "metadata": {},
     "output_type": "execute_result"
    }
   ],
   "source": [
    "y"
   ]
  },
  {
   "cell_type": "code",
   "execution_count": null,
   "metadata": {},
   "outputs": [],
   "source": [
    "# function input----arguments"
   ]
  },
  {
   "cell_type": "code",
   "execution_count": 3,
   "metadata": {},
   "outputs": [],
   "source": [
    "# keyword arguments\n",
    "print(end=\"\")\n",
    "# arg that we are passing by name"
   ]
  },
  {
   "cell_type": "code",
   "execution_count": 4,
   "metadata": {},
   "outputs": [
    {
     "name": "stdout",
     "output_type": "stream",
     "text": [
      "python\n"
     ]
    }
   ],
   "source": [
    "# default argument\n",
    "print(\"python\")  # input --- string argument\n",
    "# arguments that we are passing by name"
   ]
  },
  {
   "cell_type": "code",
   "execution_count": 8,
   "metadata": {},
   "outputs": [
    {
     "name": "stdout",
     "output_type": "stream",
     "text": [
      "python 4 True [4, 7, 8] (4, 7)\n"
     ]
    }
   ],
   "source": [
    "print(\"python\", 4, True, [4, 7, 8], (4, 7))\n",
    "# by default space ,by default \\n"
   ]
  },
  {
   "cell_type": "code",
   "execution_count": 6,
   "metadata": {},
   "outputs": [
    {
     "name": "stdout",
     "output_type": "stream",
     "text": [
      "python--4--True--[4, 7, 8]--(4, 7)\n"
     ]
    }
   ],
   "source": [
    "print(\"python\", 4, True, [4, 7, 8], (4, 7), sep=\"--\")"
   ]
  },
  {
   "cell_type": "code",
   "execution_count": 9,
   "metadata": {},
   "outputs": [
    {
     "data": {
      "text/plain": [
       "1"
      ]
     },
     "execution_count": 9,
     "metadata": {},
     "output_type": "execute_result"
    }
   ],
   "source": [
    "# *args(optional)\n",
    "len(\"s\")"
   ]
  },
  {
   "cell_type": "code",
   "execution_count": 9,
   "metadata": {},
   "outputs": [
    {
     "name": "stdout",
     "output_type": "stream",
     "text": [
      "ahmed 24\n"
     ]
    }
   ],
   "source": [
    "name = \"ahmed\"\n",
    "age = 24\n",
    "print(name, age)"
   ]
  },
  {
   "cell_type": "code",
   "execution_count": 1,
   "metadata": {},
   "outputs": [],
   "source": [
    "name, age = input(\"enter you full name and age\").split()"
   ]
  },
  {
   "cell_type": "code",
   "execution_count": 2,
   "metadata": {},
   "outputs": [
    {
     "name": "stdout",
     "output_type": "stream",
     "text": [
      "welcome to AliBaba:rehan,good wishes on your birthday :24\n"
     ]
    }
   ],
   "source": [
    "print(\"welcome to AliBaba:{},good wishes on your birthday :{}\".format(name, age))"
   ]
  },
  {
   "cell_type": "code",
   "execution_count": 11,
   "metadata": {},
   "outputs": [
    {
     "name": "stdout",
     "output_type": "stream",
     "text": [
      "Name:ahmed,age:24\n"
     ]
    }
   ],
   "source": [
    "# string formatting method\n",
    "print(\"Name:{},age:{}\".format(name, age))"
   ]
  },
  {
   "cell_type": "code",
   "execution_count": 12,
   "metadata": {},
   "outputs": [
    {
     "name": "stdout",
     "output_type": "stream",
     "text": [
      "name:ahmed,age:24\n"
     ]
    }
   ],
   "source": [
    "# https://peps.python.org/pep-0498/\n",
    "# f string or string interpolution\n",
    "print(f\"name:{name},age:{age}\")"
   ]
  },
  {
   "cell_type": "code",
   "execution_count": 25,
   "metadata": {},
   "outputs": [],
   "source": [
    "# str.split   ----return list\n",
    "*name, age = input(\"enter\").split(\",\")"
   ]
  },
  {
   "cell_type": "code",
   "execution_count": 26,
   "metadata": {},
   "outputs": [
    {
     "name": "stdout",
     "output_type": "stream",
     "text": [
      "[]\n"
     ]
    }
   ],
   "source": [
    "print(name)"
   ]
  },
  {
   "cell_type": "code",
   "execution_count": null,
   "metadata": {},
   "outputs": [],
   "source": [
    "#0b     binary\n",
    "#0o7  octal(0-7)\n",
    "#0x     decimal\n",
    "\n",
    "dec to bin,octal,hex\n",
    "20 \n"
   ]
  },
  {
   "cell_type": "code",
   "execution_count": null,
   "metadata": {},
   "outputs": [],
   "source": [
    "# email subject - \"from example@outlook.com Mon 10:01 AM\""
   ]
  },
  {
   "cell_type": "code",
   "execution_count": 68,
   "metadata": {},
   "outputs": [
    {
     "name": "stdout",
     "output_type": "stream",
     "text": [
      "outlook.com\n"
     ]
    }
   ],
   "source": [
    "message = \"from exampldkfje@outlook.com Mon 10:01 AM\"\n",
    "_, domain, *_ = message.split()\n",
    "dom_1, dom_2 = domain.split(\"@\")\n",
    "print(dom_2)"
   ]
  },
  {
   "cell_type": "code",
   "execution_count": null,
   "metadata": {},
   "outputs": [],
   "source": [
    "# to access a singel element use indexing\n",
    "# to access a collection in array use slicing\n",
    "message[1:5:2]  # start,stop(exclude),step(exclude like n-1)"
   ]
  },
  {
   "cell_type": "code",
   "execution_count": 65,
   "metadata": {},
   "outputs": [],
   "source": [
    "message = \"from eaxamkjdjkple@outlook.com Mon 10:01 AM\""
   ]
  },
  {
   "cell_type": "code",
   "execution_count": 63,
   "metadata": {},
   "outputs": [
    {
     "data": {
      "text/plain": [
       "'outlook.com'"
      ]
     },
     "execution_count": 63,
     "metadata": {},
     "output_type": "execute_result"
    }
   ],
   "source": [
    "# message.split(\" \")[1][8:]\n",
    "message.split(\"@\")[1].split()[0]"
   ]
  },
  {
   "cell_type": "code",
   "execution_count": null,
   "metadata": {},
   "outputs": [],
   "source": [
    "domain = \"outlook.com\""
   ]
  },
  {
   "cell_type": "code",
   "execution_count": null,
   "metadata": {},
   "outputs": [
    {
     "ename": "",
     "evalue": "",
     "output_type": "error",
     "traceback": [
      "\u001b[1;31mRunning cells with 'c:\\Users\\MUHAMMAD REHAN AFZAL\\.pyenv\\pyenv-win\\versions\\3.8.1\\python.exe' requires the ipykernel package.\n",
      "\u001b[1;31mRun the following command to install 'ipykernel' into the Python environment. \n",
      "\u001b[1;31mCommand: '\"c:/Users/MUHAMMAD REHAN AFZAL/.pyenv/pyenv-win/versions/3.8.1/python.exe\" -m pip install ipykernel -U --force-reinstall'"
     ]
    }
   ],
   "source": [
    "domain.split(\".\")[1].split()[0]"
   ]
  },
  {
   "cell_type": "code",
   "execution_count": 67,
   "metadata": {},
   "outputs": [
    {
     "data": {
      "text/plain": [
       "['from eaxamkjdjkple@outlook', ' Mon 10:01 AM']"
      ]
     },
     "execution_count": 67,
     "metadata": {},
     "output_type": "execute_result"
    }
   ],
   "source": [
    "message.split(\"\", maxsplit=1)"
   ]
  },
  {
   "cell_type": "markdown",
   "metadata": {},
   "source": [
    "### python built in Data structure\n",
    "string  str()               '',\"\",''' ''',\"\"\" \"\"\"\n",
    "array   import array        array.array()\n",
    "List    list()             []\n",
    "Tuple   \n",
    "Set     set(),frozenset()  {}\n",
    "Dictionary  dict()          {key:value}\n"
   ]
  },
  {
   "cell_type": "markdown",
   "metadata": {},
   "source": [
    "data types\n",
    "1. Immutable(Unchangeable)\n",
    "int,float,bool,complex,string\n",
    "tuple,set,dict key\n",
    "2. mutable(changeable)\n",
    "    list,frozen set"
   ]
  },
  {
   "cell_type": "markdown",
   "metadata": {},
   "source": [
    "#pass by value(copy)\n",
    "#pass by ref(shared)"
   ]
  },
  {
   "cell_type": "code",
   "execution_count": 75,
   "metadata": {},
   "outputs": [],
   "source": [
    "name = \"Ahmed\"  # string immutable"
   ]
  },
  {
   "cell_type": "code",
   "execution_count": 76,
   "metadata": {},
   "outputs": [],
   "source": [
    "new_name = name.upper()  # copy"
   ]
  },
  {
   "cell_type": "code",
   "execution_count": 77,
   "metadata": {},
   "outputs": [
    {
     "data": {
      "text/plain": [
       "'AHMED'"
      ]
     },
     "execution_count": 77,
     "metadata": {},
     "output_type": "execute_result"
    }
   ],
   "source": [
    "new_name"
   ]
  },
  {
   "cell_type": "markdown",
   "metadata": {},
   "source": [
    "Operation of data structure\n",
    "\n",
    "#creation\n",
    "#insertion\n",
    "#deletion\n",
    "#updation\n",
    "#searching\n",
    "#sorting\n",
    "#testing ---in or Not In\n",
    "\n"
   ]
  },
  {
   "cell_type": "markdown",
   "metadata": {},
   "source": [
    "### python important \n"
   ]
  },
  {
   "cell_type": "code",
   "execution_count": null,
   "metadata": {},
   "outputs": [],
   "source": [
    "list\n",
    "if-else\n",
    "for loop"
   ]
  }
 ],
 "metadata": {
  "kernelspec": {
   "display_name": "Python 3",
   "language": "python",
   "name": "python3"
  },
  "language_info": {
   "codemirror_mode": {
    "name": "ipython",
    "version": 3
   },
   "file_extension": ".py",
   "mimetype": "text/x-python",
   "name": "python",
   "nbconvert_exporter": "python",
   "pygments_lexer": "ipython3",
   "version": "3.8.1"
  }
 },
 "nbformat": 4,
 "nbformat_minor": 2
}
