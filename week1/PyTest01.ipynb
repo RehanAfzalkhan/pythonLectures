{
 "cells": [
  {
   "cell_type": "markdown",
   "metadata": {},
   "source": [
    "<b>Course Name:</b>\n",
    "- <code>Artificial Intelligence (ML & DL)</code>"
   ]
  },
  {
   "cell_type": "markdown",
   "metadata": {},
   "source": [
    "<b>Python Fundamentals Test:</b> \n",
    "\n",
    "Check your Python Programming learning progress and take your skills to the next level.\n",
    "\n",
    "- <code>Test No. : 01</code>\n",
    "- <code>Skill Level : Basic</code>\n",
    "- <code>Total Questions: 18</code>"
   ]
  },
  {
   "cell_type": "markdown",
   "metadata": {},
   "source": [
    "<b>Python Fundamentals Test covered the following Topics/Concepts</b>\n",
    "- Style Guide for Python Code\n",
    "- Python Variables \n",
    "- Basic Python Data Types \n",
    "    - Integer, Boolean, Floating, Complex, String   \n",
    "- Basic Python Built-in Methods & Conversions \n",
    "    - print, type, help, int, bool, float, str \n",
    "- Basic Python Operators & Expressions \n",
    "    - Arithmetic Operators \n",
    "- Complete String Data Type \n",
    "    - String Variables \n",
    "    - Basic String Operations (+, *, in)\n",
    "    - Advance String Operations (Indexing & Slicing)\n",
    "    - Built-in String Methods \n",
    "    - String Formatting (str.format, f-string)"
   ]
  },
  {
   "cell_type": "code",
   "execution_count": null,
   "metadata": {},
   "outputs": [],
   "source": []
  },
  {
   "cell_type": "markdown",
   "metadata": {},
   "source": [
    "<b>Ready to Test Your Basic Python Programming Skills ...</b>"
   ]
  },
  {
   "cell_type": "markdown",
   "metadata": {},
   "source": [
    "<b>Question 1:</b>"
   ]
  },
  {
   "cell_type": "markdown",
   "metadata": {},
   "source": [
    "Write a program to assign different and same values to multiple variables in one line, then display variables and type with one print statement."
   ]
  },
  {
   "cell_type": "code",
   "execution_count": 1,
   "metadata": {},
   "outputs": [],
   "source": [
    "int_var,float_var,lang=20,10.5,\"Python\";var1=var2=var3=35"
   ]
  },
  {
   "cell_type": "code",
   "execution_count": 62,
   "metadata": {},
   "outputs": [
    {
     "name": "stdout",
     "output_type": "stream",
     "text": [
      "type of int_Var: <class 'int'> type of float_var: <class 'float'> type of string_var: <class 'str'> type of var1: <class 'int'> type of var2: <class 'int'> type of var3: <class 'int'>\n"
     ]
    }
   ],
   "source": [
    "print(\"type of int_Var:\",type(int_var),\"type of float_var:\",type(float_var),\"type of string_var:\",type(lang),\"type of var1:\",type(var1),\"type of var2:\",type(var2),\"type of var3:\",type(var3))"
   ]
  },
  {
   "cell_type": "markdown",
   "metadata": {},
   "source": [
    "<b>Question 2:</b>"
   ]
  },
  {
   "cell_type": "markdown",
   "metadata": {},
   "source": [
    "Write a program that performs all arithmetic assignment operations on one variable."
   ]
  },
  {
   "cell_type": "code",
   "execution_count": 63,
   "metadata": {},
   "outputs": [],
   "source": [
    "x = 10"
   ]
  },
  {
   "cell_type": "code",
   "execution_count": 64,
   "metadata": {},
   "outputs": [
    {
     "name": "stdout",
     "output_type": "stream",
     "text": [
      "After addition: 15\n"
     ]
    }
   ],
   "source": [
    "x += 5\n",
    "print(\"After addition:\", x)"
   ]
  },
  {
   "cell_type": "code",
   "execution_count": 14,
   "metadata": {},
   "outputs": [
    {
     "name": "stdout",
     "output_type": "stream",
     "text": [
      "After subtraction: 12\n"
     ]
    }
   ],
   "source": [
    "x -= 3\n",
    "print(\"After subtraction:\", x)"
   ]
  },
  {
   "cell_type": "code",
   "execution_count": 15,
   "metadata": {},
   "outputs": [
    {
     "name": "stdout",
     "output_type": "stream",
     "text": [
      "After multiplication: 24\n"
     ]
    }
   ],
   "source": [
    "x *= 2\n",
    "print(\"After multiplication:\", x)"
   ]
  },
  {
   "cell_type": "code",
   "execution_count": 16,
   "metadata": {},
   "outputs": [
    {
     "name": "stdout",
     "output_type": "stream",
     "text": [
      "After division: 6.0\n"
     ]
    }
   ],
   "source": [
    "x /= 4\n",
    "print(\"After division:\", x)"
   ]
  },
  {
   "cell_type": "code",
   "execution_count": 17,
   "metadata": {},
   "outputs": [
    {
     "name": "stdout",
     "output_type": "stream",
     "text": [
      "After floor division: 2.0\n"
     ]
    }
   ],
   "source": [
    "x //= 3\n",
    "print(\"After floor division:\", x) "
   ]
  },
  {
   "cell_type": "code",
   "execution_count": 18,
   "metadata": {},
   "outputs": [
    {
     "name": "stdout",
     "output_type": "stream",
     "text": [
      "After exponentiation: 8.0\n"
     ]
    }
   ],
   "source": [
    "x **= 3\n",
    "print(\"After exponentiation:\", x)"
   ]
  },
  {
   "cell_type": "code",
   "execution_count": 19,
   "metadata": {},
   "outputs": [
    {
     "name": "stdout",
     "output_type": "stream",
     "text": [
      "After modulus: 3.0\n"
     ]
    }
   ],
   "source": [
    "x %= 5\n",
    "print(\"After modulus:\", x)  "
   ]
  },
  {
   "cell_type": "markdown",
   "metadata": {},
   "source": [
    "<b>Question 3:</b>"
   ]
  },
  {
   "cell_type": "markdown",
   "metadata": {},
   "source": [
    "Write a program that stored a three-digit number as integer and reverse the number."
   ]
  },
  {
   "cell_type": "code",
   "execution_count": 9,
   "metadata": {},
   "outputs": [],
   "source": [
    "number=123"
   ]
  },
  {
   "cell_type": "code",
   "execution_count": 10,
   "metadata": {},
   "outputs": [],
   "source": [
    "num1 = number // 100\n",
    "num2 = (number // 10) % 10\n",
    "num3 = number % 10\n",
    "reverse_number = num3 * 100 + num2 * 10 + num1"
   ]
  },
  {
   "cell_type": "code",
   "execution_count": 11,
   "metadata": {},
   "outputs": [
    {
     "name": "stdout",
     "output_type": "stream",
     "text": [
      "Original number: 123\n",
      "Reversed number: 321\n"
     ]
    }
   ],
   "source": [
    "print(f\"Original number: {number}\" )\n",
    "print(f\"Reversed number: {reverse_number}\")"
   ]
  },
  {
   "cell_type": "code",
   "execution_count": null,
   "metadata": {},
   "outputs": [],
   "source": []
  },
  {
   "cell_type": "markdown",
   "metadata": {},
   "source": [
    "<b>Question 4:</b>"
   ]
  },
  {
   "cell_type": "markdown",
   "metadata": {},
   "source": [
    "Write a program that stored two integer numbers, swaps these values without using third variable and displays them."
   ]
  },
  {
   "cell_type": "code",
   "execution_count": 158,
   "metadata": {},
   "outputs": [],
   "source": [
    "num1,num2=23,15"
   ]
  },
  {
   "cell_type": "code",
   "execution_count": 160,
   "metadata": {},
   "outputs": [
    {
     "name": "stdout",
     "output_type": "stream",
     "text": [
      "Original values= num1=15 &&  num2=23\n",
      "Swapped values = num1=23 &&  num2=15\n"
     ]
    }
   ],
   "source": [
    "print(f\"Original values= num1={num1} &&  num2={num2}\")\n",
    "num2,num1=num1,num2\n",
    "print(f\"Swapped values = num1={num1} &&  num2={num2}\")"
   ]
  },
  {
   "cell_type": "markdown",
   "metadata": {},
   "source": [
    "<b>Question 5:</b>"
   ]
  },
  {
   "cell_type": "markdown",
   "metadata": {},
   "source": [
    "Target String: Python Programming Fundamentals.\n",
    "\n",
    "Expected Result: to rgamn udmnas"
   ]
  },
  {
   "cell_type": "code",
   "execution_count": 203,
   "metadata": {},
   "outputs": [],
   "source": [
    "trgt_str='Python Programming Fundamentals.'"
   ]
  },
  {
   "cell_type": "code",
   "execution_count": 204,
   "metadata": {},
   "outputs": [
    {
     "name": "stdout",
     "output_type": "stream",
     "text": [
      "Target String:Python Programming Fundamentals.\n",
      "Output:to rgamn udmnas\n"
     ]
    }
   ],
   "source": [
    "res=trgt_str[2:5:2],trgt_str[8:17:2],trgt_str[20::2]\n",
    "print(f\"Target String:{trgt_str}\")\n",
    "print(\"Output:\"+trgt_str[2:5:2],trgt_str[8:17:2],trgt_str[20::2])"
   ]
  },
  {
   "cell_type": "markdown",
   "metadata": {},
   "source": [
    "<b>Question 6:</b>"
   ]
  },
  {
   "cell_type": "markdown",
   "metadata": {},
   "source": [
    "Write a program that concate all basic python data type variables.\n"
   ]
  },
  {
   "cell_type": "code",
   "execution_count": 44,
   "metadata": {},
   "outputs": [],
   "source": [
    "var_int=5;var_str=\"Hi Man\";var_float=10.5;var_bol=True;var_list=[1,2,3]\n",
    "var_tuple=(5,7,9);var_dict={\"lang\":\"Python\",\"working\":\"str concatenation\"}"
   ]
  },
  {
   "cell_type": "code",
   "execution_count": 54,
   "metadata": {},
   "outputs": [
    {
     "name": "stdout",
     "output_type": "stream",
     "text": [
      "Integer variable:5 String variable: Hi Manfloat variable: 10.5 boolean variable:Truelist variable: [1, 2, 3]tuple variable:(5, 7, 9)dictionary variable:{'lang': 'Python', 'working': 'str concatenation'}\n"
     ]
    }
   ],
   "source": [
    "print(f\"Integer variable:\"+str(var_int)+\" String variable: \"+var_str+\"float variable: \"+str(var_float)+\" boolean variable:\"+str(var_bol)+\"list variable: \"+str(var_list)+\"tuple variable:\"+str(var_tuple)+\"dictionary variable:\"+str(var_dict))"
   ]
  },
  {
   "cell_type": "markdown",
   "metadata": {},
   "source": [
    "<b>Question 7:</b>"
   ]
  },
  {
   "cell_type": "markdown",
   "metadata": {},
   "source": [
    "Write a program that format() method takes 4 number of arguments, and are placed into the respective placeholders:"
   ]
  },
  {
   "cell_type": "code",
   "execution_count": 5,
   "metadata": {},
   "outputs": [],
   "source": [
    "num1 = 10;num2 = 20;num3 = 30;num4 = 40"
   ]
  },
  {
   "cell_type": "code",
   "execution_count": 6,
   "metadata": {},
   "outputs": [],
   "source": [
    "template = \"The numbers are: {}, {}, {}, and {}\".format(num1,num2,num3,num4)"
   ]
  },
  {
   "cell_type": "code",
   "execution_count": 7,
   "metadata": {},
   "outputs": [
    {
     "data": {
      "text/plain": [
       "'The numbers are: 10, 20, 30, and 40'"
      ]
     },
     "execution_count": 7,
     "metadata": {},
     "output_type": "execute_result"
    }
   ],
   "source": [
    "template"
   ]
  },
  {
   "cell_type": "code",
   "execution_count": 3,
   "metadata": {},
   "outputs": [],
   "source": [
    "template = \"The numbers are: {}, {}, {}, and {}\""
   ]
  },
  {
   "cell_type": "code",
   "execution_count": 4,
   "metadata": {},
   "outputs": [],
   "source": [
    "formatted_string = template.format(num1, num2, num3, num4)"
   ]
  },
  {
   "cell_type": "code",
   "execution_count": 5,
   "metadata": {},
   "outputs": [
    {
     "name": "stdout",
     "output_type": "stream",
     "text": [
      "The numbers are: 10, 20, 30, and 40\n"
     ]
    }
   ],
   "source": [
    "# Print the formatted string\n",
    "print(formatted_string)"
   ]
  },
  {
   "cell_type": "markdown",
   "metadata": {},
   "source": [
    "<b>Question 8:</b>"
   ]
  },
  {
   "cell_type": "markdown",
   "metadata": {},
   "source": [
    "Target -\n",
    "\n",
    "<code>Book Id: 5\n",
    "Book Name: Deep Learning using PyTorch \n",
    "Price: 100</code>\n",
    "\n",
    "Expected Result - Book Info - Book Id : 5, Book Name : Deep Learning using PyTorch, Price : 100$"
   ]
  },
  {
   "cell_type": "code",
   "execution_count": 200,
   "metadata": {},
   "outputs": [],
   "source": [
    "Book_Id=5;Book_Name=\"Deep Learning using PyTorch\";Book_Price = 100"
   ]
  },
  {
   "cell_type": "code",
   "execution_count": 201,
   "metadata": {},
   "outputs": [
    {
     "name": "stdout",
     "output_type": "stream",
     "text": [
      "Target -\n",
      "\t    Book Id: 5 Book Name: Deep Learning using PyTorch Price: 100\n",
      "Output-\n",
      "Book Info - Book Id: 5,Book Name: Deep Learning using PyTorch Price: 100$\n"
     ]
    }
   ],
   "source": [
    "print(\"Target -\")\n",
    "print(\"\\t    Book Id: 5 Book Name: Deep Learning using PyTorch Price: 100\")\n",
    "print(\"Output-\")\n",
    "print(f\"Book Info - Book Id: {Book_Id},Book Name: {Book_Name} Price: {Book_Price}$\")"
   ]
  },
  {
   "cell_type": "code",
   "execution_count": null,
   "metadata": {},
   "outputs": [],
   "source": []
  },
  {
   "cell_type": "markdown",
   "metadata": {},
   "source": [
    "<b>Question 9:</b>"
   ]
  },
  {
   "cell_type": "markdown",
   "metadata": {},
   "source": [
    "Target Strings:\n",
    "\n",
    "<code>machine learning</code>\n",
    "\n",
    "Expected Result:\n",
    "\n",
    "<code>mACHINE lEARNING</code>"
   ]
  },
  {
   "cell_type": "code",
   "execution_count": 202,
   "metadata": {},
   "outputs": [
    {
     "name": "stdout",
     "output_type": "stream",
     "text": [
      "Targete Strings:machine learning\n",
      "Output:mACHINE lEARNING\n"
     ]
    }
   ],
   "source": [
    "x=\"machine learning\"\n",
    "y=x[0]+x[1:7].upper()+\" \"+x[8]+x[9:].upper()\n",
    "print(f\"Targete Strings:{x}\")\n",
    "print(f\"Output:{y}\")"
   ]
  },
  {
   "cell_type": "markdown",
   "metadata": {},
   "source": [
    "<b>Question 10:</b>"
   ]
  },
  {
   "cell_type": "markdown",
   "metadata": {},
   "source": [
    "Target Value: \n",
    "    \n",
    "15.4567\n",
    "\n",
    "Expected Result:\n",
    "    \n",
    "<pre>\n",
    "***15.457***</pre>"
   ]
  },
  {
   "cell_type": "code",
   "execution_count": 181,
   "metadata": {},
   "outputs": [],
   "source": [
    "float_var=15.4567"
   ]
  },
  {
   "cell_type": "code",
   "execution_count": 198,
   "metadata": {},
   "outputs": [
    {
     "name": "stdout",
     "output_type": "stream",
     "text": [
      "Target Value = 15.4567\n",
      "Output=  ***15.4567***\n"
     ]
    }
   ],
   "source": [
    "print(f\"Target Value = {float_var}\")\n",
    "print(f\"Output=  ***\"+str(float_var)+\"***\")"
   ]
  },
  {
   "cell_type": "markdown",
   "metadata": {},
   "source": [
    "<b>Question 11:</b>"
   ]
  },
  {
   "cell_type": "markdown",
   "metadata": {},
   "source": [
    "Difference between python string find and index methods with example."
   ]
  },
  {
   "cell_type": "code",
   "execution_count": 55,
   "metadata": {},
   "outputs": [],
   "source": [
    "lang=\"Python is a high-level\""
   ]
  },
  {
   "cell_type": "code",
   "execution_count": 56,
   "metadata": {},
   "outputs": [
    {
     "data": {
      "text/plain": [
       "12"
      ]
     },
     "execution_count": 56,
     "metadata": {},
     "output_type": "execute_result"
    }
   ],
   "source": [
    "lang.find(\"high\")#when a string finds its return first occurance index number"
   ]
  },
  {
   "cell_type": "code",
   "execution_count": 57,
   "metadata": {},
   "outputs": [
    {
     "data": {
      "text/plain": [
       "-1"
      ]
     },
     "execution_count": 57,
     "metadata": {},
     "output_type": "execute_result"
    }
   ],
   "source": [
    "lang.find(\"highi\")#if not found return -1"
   ]
  },
  {
   "cell_type": "code",
   "execution_count": 58,
   "metadata": {},
   "outputs": [
    {
     "data": {
      "text/plain": [
       "12"
      ]
     },
     "execution_count": 58,
     "metadata": {},
     "output_type": "execute_result"
    }
   ],
   "source": [
    "lang.index(\"high\")#when a string finds its return first occurance index number"
   ]
  },
  {
   "cell_type": "code",
   "execution_count": 60,
   "metadata": {},
   "outputs": [
    {
     "ename": "ValueError",
     "evalue": "substring not found",
     "output_type": "error",
     "traceback": [
      "\u001b[1;31m---------------------------------------------------------------------------\u001b[0m",
      "\u001b[1;31mValueError\u001b[0m                                Traceback (most recent call last)",
      "Cell \u001b[1;32mIn[60], line 1\u001b[0m\n\u001b[1;32m----> 1\u001b[0m \u001b[43mlang\u001b[49m\u001b[38;5;241;43m.\u001b[39;49m\u001b[43mindex\u001b[49m\u001b[43m(\u001b[49m\u001b[38;5;124;43m\"\u001b[39;49m\u001b[38;5;124;43mhighi\u001b[39;49m\u001b[38;5;124;43m\"\u001b[39;49m\u001b[43m)\u001b[49m\u001b[38;5;66;03m#if not found return error \u001b[39;00m\n",
      "\u001b[1;31mValueError\u001b[0m: substring not found"
     ]
    }
   ],
   "source": [
    "lang.index(\"highi\")#if not found return error "
   ]
  },
  {
   "cell_type": "markdown",
   "metadata": {},
   "source": [
    "<b>Question 12:</b>"
   ]
  },
  {
   "cell_type": "markdown",
   "metadata": {},
   "source": [
    "Write a Python program to remove spaces from a given string."
   ]
  },
  {
   "cell_type": "code",
   "execution_count": 90,
   "metadata": {},
   "outputs": [],
   "source": [
    "trgt_str='string with spaces'"
   ]
  },
  {
   "cell_type": "code",
   "execution_count": 170,
   "metadata": {},
   "outputs": [
    {
     "name": "stdout",
     "output_type": "stream",
     "text": [
      "Original String:Python Programming Fundamentals.\n",
      "Output after removing spaces:PythonProgrammingFundamentals.\n"
     ]
    }
   ],
   "source": [
    "new_str=trgt_str.replace(\" \",\"\")\n",
    "print(f\"Original String:{trgt_str}\")\n",
    "print(f\"Output after removing spaces:{new_str}\")"
   ]
  },
  {
   "cell_type": "markdown",
   "metadata": {},
   "source": [
    "<b>Question 13:</b>"
   ]
  },
  {
   "cell_type": "markdown",
   "metadata": {},
   "source": [
    "Write a Python program to check whether a string starts with specified characters."
   ]
  },
  {
   "cell_type": "code",
   "execution_count": 205,
   "metadata": {},
   "outputs": [],
   "source": [
    "Course_name=\"Artificial Intelligence (Machine Learning & Deep Learning)\""
   ]
  },
  {
   "cell_type": "code",
   "execution_count": 206,
   "metadata": {},
   "outputs": [
    {
     "name": "stdout",
     "output_type": "stream",
     "text": [
      "True\n"
     ]
    }
   ],
   "source": [
    "print(Course_name.startswith('A'))"
   ]
  },
  {
   "cell_type": "markdown",
   "metadata": {},
   "source": [
    "<b>Question 14:</b>"
   ]
  },
  {
   "cell_type": "markdown",
   "metadata": {},
   "source": [
    "Write a program to check if the letter 'r' is present in the word 'Python'."
   ]
  },
  {
   "cell_type": "code",
   "execution_count": 207,
   "metadata": {},
   "outputs": [],
   "source": [
    "target_word=\"Python\""
   ]
  },
  {
   "cell_type": "code",
   "execution_count": 209,
   "metadata": {},
   "outputs": [
    {
     "name": "stdout",
     "output_type": "stream",
     "text": [
      "False\n"
     ]
    }
   ],
   "source": [
    "print('r' in target_word)"
   ]
  },
  {
   "cell_type": "markdown",
   "metadata": {},
   "source": [
    "<b>Question 15:</b>"
   ]
  },
  {
   "cell_type": "markdown",
   "metadata": {},
   "source": [
    "Write a program that find all occurrences of \"python\" in given string ignoring the case."
   ]
  },
  {
   "cell_type": "code",
   "execution_count": 40,
   "metadata": {},
   "outputs": [],
   "source": [
    "lang=''''\n",
    "        Python is a high-level, general-purpose programming language.\n",
    "        Python design philosophy emphasizes code readability with the \n",
    "        use of significant indentation. Python is dynamically typed \n",
    "        and garbage-collected. python supports multiple programming paradigms, \n",
    "        including structured, object-oriented and functional programming.\n",
    "        '''"
   ]
  },
  {
   "cell_type": "code",
   "execution_count": 41,
   "metadata": {},
   "outputs": [],
   "source": [
    "new_string=lang.lower()"
   ]
  },
  {
   "cell_type": "code",
   "execution_count": 42,
   "metadata": {},
   "outputs": [],
   "source": [
    "occurances=new_string.count(\"python\")"
   ]
  },
  {
   "cell_type": "code",
   "execution_count": 43,
   "metadata": {},
   "outputs": [
    {
     "data": {
      "text/plain": [
       "4"
      ]
     },
     "execution_count": 43,
     "metadata": {},
     "output_type": "execute_result"
    }
   ],
   "source": [
    "occurances"
   ]
  },
  {
   "cell_type": "markdown",
   "metadata": {},
   "source": [
    "<b>Question 16:</b>"
   ]
  },
  {
   "cell_type": "markdown",
   "metadata": {},
   "source": [
    "Write a program that stored your full name as a string variabe and displays the abbreviations of the first and middle names except the last name which is displayed as it is. For example, if your name is Rizwan AI Startup, then the output should be R.A.Startup."
   ]
  },
  {
   "cell_type": "code",
   "execution_count": 9,
   "metadata": {},
   "outputs": [],
   "source": [
    "Name=\"Rizwan AI Startup\""
   ]
  },
  {
   "cell_type": "code",
   "execution_count": 10,
   "metadata": {},
   "outputs": [],
   "source": [
    "First_name,Middle_name,Last_name=Name.split(\" \")"
   ]
  },
  {
   "cell_type": "code",
   "execution_count": 11,
   "metadata": {},
   "outputs": [
    {
     "name": "stdout",
     "output_type": "stream",
     "text": [
      "R.A.Startup\n"
     ]
    }
   ],
   "source": [
    "print(First_name[0]+\".\"+Middle_name[0]+\".\"+Last_name)"
   ]
  },
  {
   "cell_type": "markdown",
   "metadata": {},
   "source": [
    "<b>Question 17:</b>"
   ]
  },
  {
   "cell_type": "markdown",
   "metadata": {},
   "source": [
    "Display the following output:\n",
    "\n",
    "C:\\Users\\UserName>"
   ]
  },
  {
   "cell_type": "code",
   "execution_count": 3,
   "metadata": {},
   "outputs": [
    {
     "name": "stdout",
     "output_type": "stream",
     "text": [
      "C:\\Users\\UserName>\n"
     ]
    }
   ],
   "source": [
    "print(\"C:\\\\Users\\\\UserName>\")\n"
   ]
  },
  {
   "cell_type": "markdown",
   "metadata": {},
   "source": [
    "<b>Question 18:</b>"
   ]
  },
  {
   "cell_type": "markdown",
   "metadata": {},
   "source": [
    "Target String:\n",
    "    \n",
    "0300-1000001\n",
    "\n",
    "Expected Result:\n",
    "    \n",
    "<code>Network Code: 0300\n",
    "Actual Code: 1000001</code>"
   ]
  },
  {
   "cell_type": "code",
   "execution_count": 173,
   "metadata": {},
   "outputs": [],
   "source": [
    "trg_str=\"0300-1000001\""
   ]
  },
  {
   "cell_type": "code",
   "execution_count": 179,
   "metadata": {},
   "outputs": [
    {
     "name": "stdout",
     "output_type": "stream",
     "text": [
      "Target String: 0300-1000001\n",
      "Ouput: Network Code: 0300 Actual Code: 1000001\n"
     ]
    }
   ],
   "source": [
    "print(f'Target String: {trg_str}')\n",
    "N_code=trg_str[0:4];A_code=trg_str[5:]\n",
    "print(f\"Ouput: Network Code: {N_code} Actual Code: {A_code}\")\n"
   ]
  },
  {
   "cell_type": "code",
   "execution_count": null,
   "metadata": {},
   "outputs": [],
   "source": []
  },
  {
   "cell_type": "markdown",
   "metadata": {},
   "source": [
    "#### Happy Learning 😊"
   ]
  }
 ],
 "metadata": {
  "kernelspec": {
   "display_name": "Python 3",
   "language": "python",
   "name": "python3"
  },
  "language_info": {
   "codemirror_mode": {
    "name": "ipython",
    "version": 3
   },
   "file_extension": ".py",
   "mimetype": "text/x-python",
   "name": "python",
   "nbconvert_exporter": "python",
   "pygments_lexer": "ipython3",
   "version": "3.11.8"
  }
 },
 "nbformat": 4,
 "nbformat_minor": 4
}
