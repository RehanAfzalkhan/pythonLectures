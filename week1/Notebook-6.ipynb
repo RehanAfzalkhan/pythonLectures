{
 "cells": [
  {
   "cell_type": "code",
   "execution_count": 1,
   "metadata": {},
   "outputs": [],
   "source": [
    "#problem 01:show all values of list using while loop\n",
    "values=[3,7,1,8,2]"
   ]
  },
  {
   "cell_type": "code",
   "execution_count": 2,
   "metadata": {},
   "outputs": [
    {
     "name": "stdout",
     "output_type": "stream",
     "text": [
      "3\n",
      "7\n",
      "1\n",
      "8\n",
      "2\n"
     ]
    }
   ],
   "source": [
    "i=0\n",
    "while i<len(values):\n",
    "    print(values[i])\n",
    "    i+=1"
   ]
  },
  {
   "cell_type": "markdown",
   "metadata": {},
   "source": [
    "##### #problem 02:show all even values in list"
   ]
  },
  {
   "cell_type": "code",
   "execution_count": 5,
   "metadata": {},
   "outputs": [],
   "source": [
    "values=[3,7,1,8,2,12]"
   ]
  },
  {
   "cell_type": "code",
   "execution_count": 6,
   "metadata": {},
   "outputs": [
    {
     "name": "stdout",
     "output_type": "stream",
     "text": [
      "8\n",
      "2\n",
      "12\n"
     ]
    }
   ],
   "source": [
    "i=0\n",
    "while i<len(values):\n",
    "    if values[i] %2==0:\n",
    "        print(values[i])\n",
    "        \n",
    "    i+=1\n"
   ]
  },
  {
   "cell_type": "markdown",
   "metadata": {},
   "source": [
    "#### problem03 show values reverse using while loop"
   ]
  },
  {
   "cell_type": "code",
   "execution_count": 8,
   "metadata": {},
   "outputs": [],
   "source": [
    "values=[3,7,1,8,2]"
   ]
  },
  {
   "cell_type": "code",
   "execution_count": 9,
   "metadata": {},
   "outputs": [
    {
     "name": "stdout",
     "output_type": "stream",
     "text": [
      "[2, 8, 1, 7, 3]\n"
     ]
    }
   ],
   "source": [
    "new_values=[]\n",
    "i=len(values)-1\n",
    "while i>=0:\n",
    "    new_values.append(values[i])\n",
    "    i-=1\n",
    "\n",
    "print(new_values)    "
   ]
  },
  {
   "cell_type": "markdown",
   "metadata": {},
   "source": [
    "##### Problem:04 reverse string using while loop"
   ]
  },
  {
   "cell_type": "code",
   "execution_count": 13,
   "metadata": {},
   "outputs": [],
   "source": [
    "lang=\"Python Programming\""
   ]
  },
  {
   "cell_type": "code",
   "execution_count": 14,
   "metadata": {},
   "outputs": [],
   "source": [
    "reverse_str=\" \"\n",
    "i=len(lang)-1\n",
    "while i>=0:\n",
    "    reverse_str+=lang[i]\n",
    "    i-= 1\n",
    "    "
   ]
  },
  {
   "cell_type": "code",
   "execution_count": 15,
   "metadata": {},
   "outputs": [
    {
     "data": {
      "text/plain": [
       "' gnimmargorP nohtyP'"
      ]
     },
     "execution_count": 15,
     "metadata": {},
     "output_type": "execute_result"
    }
   ],
   "source": [
    "reverse_str"
   ]
  },
  {
   "cell_type": "markdown",
   "metadata": {},
   "source": [
    "##### Problem:05 reverse string using for loop"
   ]
  },
  {
   "cell_type": "code",
   "execution_count": 18,
   "metadata": {},
   "outputs": [],
   "source": [
    "lang=\"Python\""
   ]
  },
  {
   "cell_type": "code",
   "execution_count": 19,
   "metadata": {},
   "outputs": [
    {
     "name": "stdout",
     "output_type": "stream",
     "text": [
      "n\n",
      "o\n",
      "h\n",
      "t\n",
      "y\n",
      "P\n"
     ]
    }
   ],
   "source": [
    "for i in range(len(lang)-1,-1,-1):\n",
    "    print(lang[i])\n",
    "   \n",
    "    "
   ]
  },
  {
   "cell_type": "markdown",
   "metadata": {},
   "source": [
    "#### #problem show user which ends with y"
   ]
  },
  {
   "cell_type": "code",
   "execution_count": 23,
   "metadata": {},
   "outputs": [],
   "source": [
    "users_list=[\"abc1\",\"y1yy\",\"aopy\",\"yoy\"]"
   ]
  },
  {
   "cell_type": "code",
   "execution_count": 24,
   "metadata": {},
   "outputs": [],
   "source": [
    "new_users=[]\n",
    "for user in users_list:\n",
    "    if user[-1] == \"y\":\n",
    "        new_users.append(user)"
   ]
  },
  {
   "cell_type": "code",
   "execution_count": 25,
   "metadata": {},
   "outputs": [
    {
     "data": {
      "text/plain": [
       "['y1yy', 'aopy', 'yoy']"
      ]
     },
     "execution_count": 25,
     "metadata": {},
     "output_type": "execute_result"
    }
   ],
   "source": [
    "new_users"
   ]
  },
  {
   "cell_type": "markdown",
   "metadata": {},
   "source": [
    "#### show username having digits"
   ]
  },
  {
   "cell_type": "code",
   "execution_count": 143,
   "metadata": {},
   "outputs": [],
   "source": [
    "users_list=[\"rehan3\",\"ahmed\",\"ao2n\",\"roy\"]"
   ]
  },
  {
   "cell_type": "code",
   "execution_count": 144,
   "metadata": {},
   "outputs": [],
   "source": [
    "new_list=[]\n",
    "for x in users_list:\n",
    "    for i in range(len(x)):\n",
    "        if int(x[i].isdigit()):\n",
    "            new_list.append(x)\n",
    "            \n",
    "        "
   ]
  },
  {
   "cell_type": "code",
   "execution_count": 145,
   "metadata": {},
   "outputs": [
    {
     "data": {
      "text/plain": [
       "['rehan3', 'ao2n']"
      ]
     },
     "execution_count": 145,
     "metadata": {},
     "output_type": "execute_result"
    }
   ],
   "source": [
    "new_list"
   ]
  },
  {
   "cell_type": "markdown",
   "metadata": {},
   "source": [
    "### python function \n"
   ]
  },
  {
   "cell_type": "markdown",
   "metadata": {},
   "source": [
    "<b>function is a group of related statemnts that perform a specific task.</b>,\n",
    "<b>function named blocks code that designed to do one specifi job/task.</b>"
   ]
  },
  {
   "cell_type": "markdown",
   "metadata": {},
   "source": [
    "object\n",
    "\n",
    "attribute           info,state,propeoties,fields\n",
    "functions/methods   operation,working,action\n",
    "mini program-programe divide into the mini chunks so that code structure in an organized way built function.\n",
    "why use function?\n",
    "-organized\n",
    "-managed\n",
    "-reuseability\n",
    "-modules/chunks\n",
    "\n",
    "moduler programming:-\n"
   ]
  },
  {
   "cell_type": "markdown",
   "metadata": {},
   "source": [
    "python function & methods\n",
    "function=independent of object ---always use outside the class\n",
    "methods=depend on object--always use in the class"
   ]
  },
  {
   "cell_type": "markdown",
   "metadata": {},
   "source": [
    "#### Type of functions & methods\n",
    "1-built in functions\n",
    "i.e\n",
    "print,len,int,list,str,help,sum\n",
    "2-user defined functions(UDF)\n",
    "i.e\n",
    "def functionname():\n",
    "\n",
    "1-built in mehtods\n",
    "i.e list.append()list methods,str.upper(),\n",
    "2-user defined methods(UDMs)\n",
    "i.e defined in class but with def--"
   ]
  },
  {
   "cell_type": "markdown",
   "metadata": {},
   "source": [
    "user-defined methods(UDFs)\n",
    "components\n",
    "1.function header(function signature/function prototype/function declaration)\n",
    "    -def keyword\n",
    "    -function name\n",
    "    -function parameters/arguments\n",
    "2.function body\n",
    "    -Doc string(show detailed/working of function) \"\"\"calculate even numbers\"\"\"\n",
    "    -Actions & statments\n",
    "    -return(keyword) value(s)"
   ]
  },
  {
   "cell_type": "markdown",
   "metadata": {},
   "source": [
    "functions are reference based\n",
    "always name shoudlbe in snake case"
   ]
  },
  {
   "cell_type": "code",
   "execution_count": 132,
   "metadata": {},
   "outputs": [],
   "source": [
    "#function define\n",
    "def func():\n",
    "    pass"
   ]
  },
  {
   "cell_type": "code",
   "execution_count": 135,
   "metadata": {},
   "outputs": [],
   "source": [
    "test=func"
   ]
  },
  {
   "cell_type": "code",
   "execution_count": 136,
   "metadata": {},
   "outputs": [
    {
     "data": {
      "text/plain": [
       "function"
      ]
     },
     "execution_count": 136,
     "metadata": {},
     "output_type": "execute_result"
    }
   ],
   "source": [
    "type(test)"
   ]
  },
  {
   "cell_type": "markdown",
   "metadata": {},
   "source": [
    "#### write a program using function to check the even numbers in the list"
   ]
  },
  {
   "cell_type": "code",
   "execution_count": 154,
   "metadata": {},
   "outputs": [],
   "source": [
    "def is_even(values):\n",
    "    new_values=[]\n",
    "    for value in values:\n",
    "        if value % 2==0:\n",
    "            new_values.append(value)\n",
    "\n",
    "    return new_values         \n",
    "    "
   ]
  },
  {
   "cell_type": "code",
   "execution_count": 155,
   "metadata": {},
   "outputs": [],
   "source": [
    "result=is_even([1,2,3,4])"
   ]
  },
  {
   "cell_type": "code",
   "execution_count": 156,
   "metadata": {},
   "outputs": [
    {
     "name": "stdout",
     "output_type": "stream",
     "text": [
      "[2, 4]\n"
     ]
    }
   ],
   "source": [
    "print(result)"
   ]
  },
  {
   "cell_type": "markdown",
   "metadata": {},
   "source": [
    "#### write a program having a function that return maximum value in the list"
   ]
  },
  {
   "cell_type": "code",
   "execution_count": 161,
   "metadata": {},
   "outputs": [],
   "source": [
    "def max_value(values:list)->int | str:    \n",
    "    \"\"\"\n",
    "    find the max value in the string\n",
    "    \"\"\"\n",
    "    if type(values)!=list:\n",
    "        return \"invalid list\"\n",
    "    else:\n",
    "        max_value=values[0]\n",
    "        for value in values:\n",
    "            if value > max_value:\n",
    "                max_value=value\n",
    "        return max_value    "
   ]
  },
  {
   "cell_type": "code",
   "execution_count": 163,
   "metadata": {},
   "outputs": [
    {
     "name": "stdout",
     "output_type": "stream",
     "text": [
      "Maximum value is:7\n"
     ]
    }
   ],
   "source": [
    "number=[3,5,2,6,7]\n",
    "result=max_value(number)\n",
    "print(f\"Maximum value is:{result}\")"
   ]
  },
  {
   "cell_type": "code",
   "execution_count": 2,
   "metadata": {},
   "outputs": [],
   "source": [
    "# transformer natureal angugage processing book(sir rizwan will send)"
   ]
  },
  {
   "cell_type": "code",
   "execution_count": null,
   "metadata": {},
   "outputs": [],
   "source": []
  }
 ],
 "metadata": {
  "kernelspec": {
   "display_name": "Python 3",
   "language": "python",
   "name": "python3"
  },
  "language_info": {
   "codemirror_mode": {
    "name": "ipython",
    "version": 3
   },
   "file_extension": ".py",
   "mimetype": "text/x-python",
   "name": "python",
   "nbconvert_exporter": "python",
   "pygments_lexer": "ipython3",
   "version": "undefined.undefined.undefined"
  }
 },
 "nbformat": 4,
 "nbformat_minor": 2
}
