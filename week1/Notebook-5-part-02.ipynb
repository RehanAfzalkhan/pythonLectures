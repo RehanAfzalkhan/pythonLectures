{
 "cells": [
  {
   "cell_type": "markdown",
   "metadata": {},
   "source": [
    "python compound statments"
   ]
  },
  {
   "cell_type": "markdown",
   "metadata": {},
   "source": [
    "1. The <code>if</code> statment\n",
    "    -pass\n",
    "    -if\n",
    "    -else\n",
    "    -elif\n",
    "\n",
    "2. The <code>while</code> statment  \n",
    "    -else\n",
    "    -break\n",
    "    -countinue\n",
    "\n",
    "3.  The <code>for</code> statment \n",
    "        -in\n",
    "        -break\n",
    "        -continue\n",
    "        -range()\n",
    "        -else\n",
    "4.  The <code>try</code> statment \n",
    "    -try catch throw\n",
    "    -except\n",
    "    -as\n",
    "    -finally\n",
    "    -else\n",
    "    -raise\n",
    "    -assert\n",
    "\n",
    "5.  The <code>with</code> statment \n",
    "    -as\n",
    "6.  function defination\n",
    "7.  class defination    "
   ]
  },
  {
   "cell_type": "markdown",
   "metadata": {},
   "source": [
    "#conditional state\n",
    "#iterative stat\n",
    "#exception handling\n",
    "#file handling\n",
    "#functions\n",
    "#classes\n",
    "#Module(group of function of class)\n",
    "#modules and packages(group of modules)package=folder,module=file"
   ]
  },
  {
   "cell_type": "markdown",
   "metadata": {},
   "source": [
    "OOP\n",
    "1. encapsulation\n",
    "2. inheritance\n",
    "3. polymorphism\n",
    "4. abstraction\n",
    "\n",
    "#relationships\n",
    "1.inheritance\n",
    "2.association  ->composition and aggregation"
   ]
  },
  {
   "cell_type": "markdown",
   "metadata": {},
   "source": [
    "### conditional statment"
   ]
  },
  {
   "cell_type": "code",
   "execution_count": 1,
   "metadata": {},
   "outputs": [
    {
     "name": "stdout",
     "output_type": "stream",
     "text": [
      "hi \n"
     ]
    }
   ],
   "source": [
    "if True:\n",
    "    print(\"hi \")"
   ]
  },
  {
   "cell_type": "markdown",
   "metadata": {},
   "source": [
    "false statemetn\n",
    "#none,0,false,[],()"
   ]
  },
  {
   "cell_type": "code",
   "execution_count": 2,
   "metadata": {},
   "outputs": [],
   "source": [
    "from getpass import getpass"
   ]
  },
  {
   "cell_type": "code",
   "execution_count": 3,
   "metadata": {},
   "outputs": [],
   "source": [
    "user_name=input(\"enter username\")\n",
    "password=getpass(\"enter password\")"
   ]
  },
  {
   "cell_type": "code",
   "execution_count": null,
   "metadata": {},
   "outputs": [],
   "source": [
    "if user_name==\"rehan\" and password==\"rehan\"\n",
    "    print(\"welcome\")\n",
    "else:\n",
    "    print(\"wrong password\")    "
   ]
  },
  {
   "cell_type": "code",
   "execution_count": 5,
   "metadata": {},
   "outputs": [],
   "source": [
    "#while loop\n",
    "#1. inititialization\n",
    "# 2. condition\n",
    "# 3. increment/decrement"
   ]
  },
  {
   "cell_type": "code",
   "execution_count": 6,
   "metadata": {},
   "outputs": [
    {
     "name": "stdout",
     "output_type": "stream",
     "text": [
      "0\n",
      "1\n",
      "2\n",
      "3\n",
      "4\n"
     ]
    }
   ],
   "source": [
    "i=0\n",
    "while i<5:\n",
    "    print(i)\n",
    "    i+= 1"
   ]
  },
  {
   "cell_type": "code",
   "execution_count": 8,
   "metadata": {},
   "outputs": [
    {
     "name": "stdout",
     "output_type": "stream",
     "text": [
      "abc\n",
      "xyz\n",
      "rrr\n"
     ]
    }
   ],
   "source": [
    "users=[\"abc\",\"xyz\",\"rrr\"]\n",
    "i=0\n",
    "while i<len(users):\n",
    "    print(users[i])\n",
    "    i+= 1"
   ]
  },
  {
   "cell_type": "code",
   "execution_count": 9,
   "metadata": {},
   "outputs": [
    {
     "name": "stdout",
     "output_type": "stream",
     "text": [
      "abc\n",
      "rrr\n"
     ]
    }
   ],
   "source": [
    "users=[\"abc\",\"xyz\",\"rrr\"]\n",
    "i=0\n",
    "while i<len(users):\n",
    "    if not (users[i].startswith(\"x\")):\n",
    "        print(users[i])#indexing\n",
    "    i+= 1\n",
    "\n",
    "    "
   ]
  },
  {
   "cell_type": "code",
   "execution_count": null,
   "metadata": {},
   "outputs": [],
   "source": [
    "#for loop\n",
    "# for loop built in use  while(),next(),iter(),exception handling builtin \n",
    "# --value ,index(optional) for\n",
    "# index ,value(optional) range()\n",
    "# value,index enumerate()"
   ]
  },
  {
   "cell_type": "code",
   "execution_count": 10,
   "metadata": {},
   "outputs": [],
   "source": [
    "users=[\"abc\",\"xyz\",\"rrr\"]"
   ]
  },
  {
   "cell_type": "code",
   "execution_count": 14,
   "metadata": {},
   "outputs": [
    {
     "name": "stdout",
     "output_type": "stream",
     "text": [
      "abc 0\n",
      "xyz 1\n",
      "rrr 2\n"
     ]
    }
   ],
   "source": [
    "i=0\n",
    "for value in users:#after in pass iterable object\n",
    "    print(value,i)\n",
    "    i+=1 #compound arithimatic statment/assignment    ,inplace operator"
   ]
  },
  {
   "cell_type": "code",
   "execution_count": 16,
   "metadata": {},
   "outputs": [
    {
     "name": "stdout",
     "output_type": "stream",
     "text": [
      "1\n",
      "2\n",
      "3\n",
      "4\n",
      "5\n",
      "6\n",
      "7\n",
      "8\n",
      "9\n",
      "10\n"
     ]
    }
   ],
   "source": [
    "for i in range(1,11):#start value,stop value,step value\n",
    "    print(i)"
   ]
  },
  {
   "cell_type": "code",
   "execution_count": 17,
   "metadata": {},
   "outputs": [
    {
     "name": "stdout",
     "output_type": "stream",
     "text": [
      "abc 0\n",
      "xyz 1\n",
      "rrr 2\n"
     ]
    }
   ],
   "source": [
    "for i in range(0,len(users)):\n",
    "    print(users[i],i)\n",
    "    i+=1"
   ]
  },
  {
   "cell_type": "code",
   "execution_count": 18,
   "metadata": {},
   "outputs": [
    {
     "name": "stdout",
     "output_type": "stream",
     "text": [
      "0 abc\n",
      "1 xyz\n",
      "2 rrr\n"
     ]
    }
   ],
   "source": [
    "for value, index in enumerate(users):#enumerate by default return index and value\n",
    "    print(value,index)"
   ]
  },
  {
   "cell_type": "code",
   "execution_count": 19,
   "metadata": {},
   "outputs": [
    {
     "name": "stdout",
     "output_type": "stream",
     "text": [
      "(0, 'abc')\n",
      "(1, 'xyz')\n",
      "(2, 'rrr')\n"
     ]
    }
   ],
   "source": [
    "for item in enumerate(users):#indexing\n",
    "    print(item)"
   ]
  },
  {
   "cell_type": "code",
   "execution_count": 70,
   "metadata": {},
   "outputs": [],
   "source": []
  },
  {
   "cell_type": "code",
   "execution_count": null,
   "metadata": {},
   "outputs": [],
   "source": [
    "#problem\n",
    "#if product name does exist in list then add other wise print already exist.\n"
   ]
  },
  {
   "cell_type": "code",
   "execution_count": 3,
   "metadata": {},
   "outputs": [],
   "source": [
    "products= [\"t-shirt\",\"laptop\",\"ar-device\",\"notebook\"]#database"
   ]
  },
  {
   "cell_type": "code",
   "execution_count": 7,
   "metadata": {},
   "outputs": [
    {
     "name": "stdout",
     "output_type": "stream",
     "text": [
      "touchpad already exist in stock\n"
     ]
    }
   ],
   "source": [
    "add_new_product=input(\"enter product name\")\n",
    "for value in products:\n",
    "    \n",
    "    if add_new_product ==value:\n",
    "        print(f\"{add_new_product} already exist in stock\")\n",
    "        break\n",
    "    \n",
    "else:\n",
    "    products.append(add_new_product)\n",
    "    print(f\"{add_new_product} added\")"
   ]
  },
  {
   "cell_type": "code",
   "execution_count": 6,
   "metadata": {},
   "outputs": [
    {
     "data": {
      "text/plain": [
       "['t-shirt', 'laptop', 'ar-device', 'notebook', 'touchpad']"
      ]
     },
     "execution_count": 6,
     "metadata": {},
     "output_type": "execute_result"
    }
   ],
   "source": [
    "products"
   ]
  },
  {
   "cell_type": "code",
   "execution_count": null,
   "metadata": {},
   "outputs": [],
   "source": []
  }
 ],
 "metadata": {
  "kernelspec": {
   "display_name": "Python 3",
   "language": "python",
   "name": "python3"
  },
  "language_info": {
   "codemirror_mode": {
    "name": "ipython",
    "version": 3
   },
   "file_extension": ".py",
   "mimetype": "text/x-python",
   "name": "python",
   "nbconvert_exporter": "python",
   "pygments_lexer": "ipython3",
   "version": "3.11.8"
  }
 },
 "nbformat": 4,
 "nbformat_minor": 2
}
